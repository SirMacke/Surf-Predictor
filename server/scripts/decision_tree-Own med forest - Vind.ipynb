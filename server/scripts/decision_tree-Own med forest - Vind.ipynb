{
 "cells": [
  {
   "cell_type": "markdown",
   "metadata": {
    "colab_type": "text",
    "id": "8uagM-mbtFTB"
   },
   "source": [
    "Testa själv kod"
   ]
  },
  {
   "cell_type": "code",
   "execution_count": 1,
   "metadata": {
    "colab": {},
    "colab_type": "code",
    "id": "iDwCXvZVtFTG"
   },
   "outputs": [],
   "source": [
    "# For Python 2 / 3 compatability\n",
    "from __future__ import print_function"
   ]
  },
  {
   "cell_type": "code",
   "execution_count": 2,
   "metadata": {
    "colab": {},
    "colab_type": "code",
    "id": "1lZYnMwYtFTS"
   },
   "outputs": [],
   "source": [
    "training_data = [\n",
    "  [5,7,12,5.5  ],\n",
    "  [4,5,10,6.5  ],\n",
    "  [4,5,10,6.5  ],\n",
    "  [2,4,8,9.0  ],\n",
    "  [4,6,10,6.5  ],\n",
    "  [4,5,9,7.7  ],\n",
    "  [4,5,9,9.0  ],\n",
    "  [4,6,10,6.5  ],\n",
    "  [4,6,12,5.5  ],\n",
    "  [4,6,12,5.5  ],\n",
    "  [4,5,10,7.7  ],\n",
    "  [4,4,9,9.0  ],\n",
    "  [2,6,11,6.5  ],\n",
    "  [2,6,11,6.5  ],\n",
    "  [2,5,9,9.0  ],\n",
    "  [6.5,4,8,9.0  ],\n",
    "  [2.5,5,9,9.0  ],\n",
    "  [0,4,8,9.0  ],\n",
    "  [6,4,8,7.7  ],\n",
    "  [6,5,8,6.5  ],\n",
    "  [6,5,8,5.5  ],\n",
    "  [7,4,8,7.7  ],\n",
    "  [5,3,4,7.7  ],\n",
    "  [5,3,8,7.7  ],\n",
    "  [5,4,8,7.7  ],\n",
    "  [5,4,8,7.7  ],\n",
    "  [4,5,9,7.7  ],\n",
    "  [3.5,3,6,7.7  ],\n",
    "  [3.5,3,6,7.7  ],\n",
    "  [2.5,4,8,6.5  ]\n",
    "]\n",
    "training_data = [\n",
    "  [7,12,5.5  ],\n",
    "  [5,10,6.5  ],\n",
    "  [5,10,6.5  ],\n",
    "  [4,8,9.0  ],\n",
    "  [6,10,6.5  ],\n",
    "  [5,9,7.7  ],\n",
    "  [5,9,9.0  ],\n",
    "  [6,10,6.5  ],\n",
    "  [6,12,5.5  ],\n",
    "  [6,12,5.5  ],\n",
    "  [5,10,7.7  ],\n",
    "  [4,9,9.0  ],\n",
    "  [6,11,6.5  ],\n",
    "  [6,11,6.5  ],\n",
    "  [5,9,9.0  ],\n",
    "  [4,8,9.0  ],\n",
    "  [5,9,9.0  ],\n",
    "  [4,8,9.0  ],\n",
    "  [4,8,7.7  ],\n",
    "  [5,8,6.5  ],\n",
    "  [5,8,5.5  ],\n",
    "  [4,8,7.7  ],\n",
    "  [3,4,7.7  ],\n",
    "  [3,8,7.7  ],\n",
    "  [4,8,7.7  ],\n",
    "  [4,8,7.7  ],\n",
    "  [5,9,7.7  ],\n",
    "  [3,6,7.7  ],\n",
    "  [3,6,7.7  ],\n",
    "  [4,8,6.5  ]\n",
    "]\n",
    "training_data = [\n",
    "  [6,12,5.5],\n",
    "  [6,12,5.5],\n",
    "  [5,10,6.5],\n",
    "  [6,10,6.5],\n",
    "  [5,9,7.7],\n",
    "  [5,10,7.7],\n",
    "  [4,8,9.0],\n",
    "  [4,9,9.0]\n",
    "]"
   ]
  },
  {
   "cell_type": "code",
   "execution_count": 3,
   "metadata": {
    "colab": {},
    "colab_type": "code",
    "id": "WJJlPP30tFTe"
   },
   "outputs": [],
   "source": [
    "# Column labels.\n",
    "# These are used only to print the tree.\n",
    "#header = [\"Wind Direction\", \"Wind Average\", \"Wind Gusts\", \"Sail\"]\n",
    "header = [\"Wind Average\", \"Wind Gusts\", \"Sail\"]"
   ]
  },
  {
   "cell_type": "code",
   "execution_count": 4,
   "metadata": {
    "colab": {},
    "colab_type": "code",
    "id": "dkaBTMDctFUA"
   },
   "outputs": [],
   "source": [
    "def unique_vals(rows, col):\n",
    "    \"\"\"Find the unique values for a column in a dataset.\"\"\"\n",
    "    return set([row[col] for row in rows])"
   ]
  },
  {
   "cell_type": "code",
   "execution_count": 5,
   "metadata": {
    "colab": {},
    "colab_type": "code",
    "id": "IkoV9XBXtFUE",
    "outputId": "22849387-0303-48ed-cf3e-f8cbbc1b9120"
   },
   "outputs": [
    {
     "data": {
      "text/plain": [
       "{5.5, 6.5, 7.7, 9.0}"
      ]
     },
     "execution_count": 5,
     "metadata": {},
     "output_type": "execute_result"
    }
   ],
   "source": [
    "unique_vals(training_data, 2)"
   ]
  },
  {
   "cell_type": "code",
   "execution_count": 6,
   "metadata": {
    "colab": {},
    "colab_type": "code",
    "id": "VlLaUFSGtFUR"
   },
   "outputs": [],
   "source": [
    "def class_counts(rows):\n",
    "    \"\"\"Counts the number of each type of example in a dataset.\"\"\"\n",
    "    counts = {}  # a dictionary of label -> count.\n",
    "    for row in rows:\n",
    "        # in our dataset format, the label is always the last column\n",
    "        label = row[-1]\n",
    "        if label not in counts:\n",
    "            counts[label] = 0\n",
    "        counts[label] += 1\n",
    "    return counts"
   ]
  },
  {
   "cell_type": "code",
   "execution_count": 7,
   "metadata": {
    "colab": {},
    "colab_type": "code",
    "id": "cvu5gNREtFUW",
    "outputId": "47eb4be1-41a0-4ded-c90a-0c70c0002990"
   },
   "outputs": [
    {
     "data": {
      "text/plain": [
       "{5.5: 2, 6.5: 2, 7.7: 2, 9.0: 2}"
      ]
     },
     "execution_count": 7,
     "metadata": {},
     "output_type": "execute_result"
    }
   ],
   "source": [
    "class_counts(training_data)"
   ]
  },
  {
   "cell_type": "code",
   "execution_count": 8,
   "metadata": {
    "colab": {},
    "colab_type": "code",
    "id": "YifPGtljtFUf"
   },
   "outputs": [],
   "source": [
    "def is_numeric(value):\n",
    "    \"\"\"Test if a value is numeric.\"\"\"\n",
    "    return isinstance(value, int) or isinstance(value, float)"
   ]
  },
  {
   "cell_type": "code",
   "execution_count": 9,
   "metadata": {
    "colab": {},
    "colab_type": "code",
    "id": "kgW9DsDhtFUl"
   },
   "outputs": [],
   "source": [
    "class Question:\n",
    "    \"\"\"A Question is used to partition a dataset.\n",
    "\n",
    "    This class just records a 'column number' (e.g., 0 for Color) and a\n",
    "    'column value' (e.g., Green). The 'match' method is used to compare\n",
    "    the feature value in an example to the feature value stored in the\n",
    "    question. See the demo below.\n",
    "    \"\"\"\n",
    "\n",
    "    def __init__(self, column, value):\n",
    "        self.column = column\n",
    "        self.value = value\n",
    "\n",
    "    def match(self, example):\n",
    "        # Compare the feature value in an example to the\n",
    "        # feature value in this question.\n",
    "        val = example[self.column]\n",
    "        if is_numeric(val):\n",
    "            return val >= self.value\n",
    "        else:\n",
    "            return val == self.value\n",
    "        #Nya metoden, tittar så det är ett nummer man skickar in returnerar true om det är större än frågans värde och false om det är mindre.\n",
    "    def moreless(self, val):\n",
    "        if is_numeric(val):\n",
    "            return val >= self.value\n",
    "        else:\n",
    "            return val <= self.value\n",
    "\n",
    "    def __repr__(self):\n",
    "        # This is just a helper method to print\n",
    "        # the question in a readable format.\n",
    "        condition = \"==\"\n",
    "        if is_numeric(self.value):\n",
    "            condition = \">=\"\n",
    "        return \"Is %s %s %s?\" % (\n",
    "            header[self.column], condition, str(self.value))"
   ]
  },
  {
   "cell_type": "code",
   "execution_count": 10,
   "metadata": {
    "colab": {},
    "colab_type": "code",
    "id": "Su4P5UeWtFUq",
    "outputId": "489263a9-fc83-4851-e7dc-7fa7977be356"
   },
   "outputs": [
    {
     "data": {
      "text/plain": [
       "Is Wind Gusts >= 12?"
      ]
     },
     "execution_count": 10,
     "metadata": {},
     "output_type": "execute_result"
    }
   ],
   "source": [
    "# Skapar en fråga där vi säger är värmen  större eller mindre än vårt värde [0][1] alltså rad 0 värde 1 alltså 14.4\n",
    "q = Question(1, training_data[0][1])\n",
    "q"
   ]
  },
  {
   "cell_type": "code",
   "execution_count": 11,
   "metadata": {
    "colab": {},
    "colab_type": "code",
    "id": "4fPXWQ5stFUy",
    "outputId": "69e59add-450c-4508-9a54-3a223e3e6589"
   },
   "outputs": [
    {
     "data": {
      "text/plain": [
       "False"
      ]
     },
     "execution_count": 11,
     "metadata": {},
     "output_type": "execute_result"
    }
   ],
   "source": [
    "\n",
    "example = 11 #sätter 11 och kollar om det är mer eller mindre än valt värde\n",
    "q.moreless(example)"
   ]
  },
  {
   "cell_type": "code",
   "execution_count": 12,
   "metadata": {
    "colab": {},
    "colab_type": "code",
    "id": "lOu4jtQAtFU4"
   },
   "outputs": [],
   "source": [
    "def partition(rows, question):\n",
    "    \"\"\"Partitions a dataset.\n",
    "\n",
    "    For each row in the dataset, check if it matches the question. If\n",
    "    so, add it to 'true rows', otherwise, add it to 'false rows'.\n",
    "    \"\"\"\n",
    "    true_rows, false_rows = [], []\n",
    "    for row in rows:\n",
    "        if question.match(row):\n",
    "            true_rows.append(row)\n",
    "        else:\n",
    "            false_rows.append(row)\n",
    "    return true_rows, false_rows\n",
    "\n",
    "def partitionMoreLess(rows, question):\n",
    "    \"\"\"Partitions a dataset.\n",
    "\n",
    "    For each row in the dataset, check if it matches the question. If\n",
    "    so, add it to 'true rows', otherwise, add it to 'false rows'.\n",
    "    \"\"\"\n",
    "    true_rows, false_rows = [], []\n",
    "    for row in rows:\n",
    "#         print(row,question.column)\n",
    "        if question.moreless(row[question.column]):\n",
    "            true_rows.append(row)\n",
    "        else:\n",
    "            false_rows.append(row)\n",
    "    return true_rows, false_rows"
   ]
  },
  {
   "cell_type": "code",
   "execution_count": 13,
   "metadata": {
    "colab": {},
    "colab_type": "code",
    "id": "wx1vM6k0tFU_",
    "outputId": "17be3abf-717d-4eec-dae5-eb50eb45c4aa"
   },
   "outputs": [
    {
     "data": {
      "text/plain": [
       "[[6, 12, 5.5], [6, 12, 5.5], [5, 10, 6.5], [6, 10, 6.5], [5, 10, 7.7]]"
      ]
     },
     "execution_count": 13,
     "metadata": {},
     "output_type": "execute_result"
    }
   ],
   "source": [
    "true_rows, false_rows = partitionMoreLess(training_data, Question(1, 10)) #kolumn 1 (Wind Direction),över 20 grader\n",
    "true_rows"
   ]
  },
  {
   "cell_type": "code",
   "execution_count": 14,
   "metadata": {
    "colab": {},
    "colab_type": "code",
    "id": "FK4BSvaItFVG",
    "outputId": "b7fe5566-b834-425d-fe29-bb30bc42db9f"
   },
   "outputs": [
    {
     "data": {
      "text/plain": [
       "[[5, 9, 7.7], [4, 8, 9.0], [4, 9, 9.0]]"
      ]
     },
     "execution_count": 14,
     "metadata": {},
     "output_type": "execute_result"
    }
   ],
   "source": [
    "false_rows"
   ]
  },
  {
   "cell_type": "code",
   "execution_count": 15,
   "metadata": {
    "colab": {},
    "colab_type": "code",
    "id": "zcIn4K5ctFVQ"
   },
   "outputs": [],
   "source": [
    "def gini(rows):\n",
    "    \"\"\"Calculate the Gini Impurity for a list of rows.\n",
    "\n",
    "    There are a few different ways to do this, I thought this one was\n",
    "    the most concise. See:\n",
    "    https://en.wikipedia.org/wiki/Decision_tree_learning#Gini_impurity\n",
    "    \"\"\"\n",
    "    counts = class_counts(rows)\n",
    "    impurity = 1\n",
    "    for lbl in counts:\n",
    "        prob_of_lbl = counts[lbl] / float(len(rows))\n",
    "        impurity -= prob_of_lbl**2\n",
    "    return impurity"
   ]
  },
  {
   "cell_type": "code",
   "execution_count": 16,
   "metadata": {
    "colab": {},
    "colab_type": "code",
    "id": "Mumee8N6tFVX"
   },
   "outputs": [],
   "source": [
    "def info_gain(left, right, current_uncertainty):\n",
    "    \"\"\"Information Gain.\n",
    "\n",
    "    The uncertainty of the starting node, minus the weighted impurity of\n",
    "    two child nodes.\n",
    "    \"\"\"\n",
    "    p = float(len(left)) / (len(left) + len(right))\n",
    "    return current_uncertainty - p * gini(left) - (1 - p) * gini(right)"
   ]
  },
  {
   "cell_type": "code",
   "execution_count": 17,
   "metadata": {
    "colab": {},
    "colab_type": "code",
    "id": "GT7uyryktFVh",
    "outputId": "e26fecf5-3cbb-47ac-f3f2-d1780b88abab"
   },
   "outputs": [
    {
     "data": {
      "text/plain": [
       "0.75"
      ]
     },
     "execution_count": 17,
     "metadata": {},
     "output_type": "execute_result"
    }
   ],
   "source": [
    "current_uncertainty = gini(training_data)\n",
    "current_uncertainty"
   ]
  },
  {
   "cell_type": "code",
   "execution_count": 18,
   "metadata": {
    "colab": {},
    "colab_type": "code",
    "id": "yWnrevastFVl",
    "outputId": "56e5792b-378b-403f-8b53-e577b67fecfd"
   },
   "outputs": [
    {
     "data": {
      "text/plain": [
       "0.18333333333333343"
      ]
     },
     "execution_count": 18,
     "metadata": {},
     "output_type": "execute_result"
    }
   ],
   "source": [
    "# How much information do we gain by partioning on 20 heat?\n",
    "true_rows, false_rows = partitionMoreLess(training_data, Question(1, 10))\n",
    "info_gain(true_rows, false_rows, current_uncertainty)"
   ]
  },
  {
   "cell_type": "code",
   "execution_count": 19,
   "metadata": {
    "colab": {},
    "colab_type": "code",
    "id": "sNVRBapstFVv",
    "outputId": "4bcd83f6-7717-46a0-eb3c-a4a30cac01a5"
   },
   "outputs": [
    {
     "data": {
      "text/plain": [
       "0.25"
      ]
     },
     "execution_count": 19,
     "metadata": {},
     "output_type": "execute_result"
    }
   ],
   "source": [
    "# How much information do we gain by partioning on labeln kylrum?\n",
    "true_rows, false_rows = partitionMoreLess(training_data, Question(2, 7.7))\n",
    "info_gain(true_rows, false_rows, current_uncertainty)"
   ]
  },
  {
   "cell_type": "code",
   "execution_count": 20,
   "metadata": {
    "colab": {},
    "colab_type": "code",
    "id": "wNCTiYrrtFV3"
   },
   "outputs": [],
   "source": [
    "def find_best_split(rows):\n",
    "    \"\"\"Find the best question to ask by iterating over every feature / value\n",
    "    and calculating the information gain.\"\"\"\n",
    "    best_gain = 0  # keep track of the best information gain\n",
    "    best_question = None  # keep train of the feature / value that produced it\n",
    "    current_uncertainty = gini(rows)\n",
    "    n_features = len(rows[0]) - 1  # number of columns\n",
    "\n",
    "    for col in range(n_features):  # for each feature\n",
    "\n",
    "        values = set([row[col] for row in rows])  # unique values in the column\n",
    "\n",
    "        for val in values:  # for each value\n",
    "\n",
    "            question = Question(col, val)\n",
    "\n",
    "            # try splitting the dataset\n",
    "            true_rows, false_rows = partitionMoreLess(rows, question)\n",
    "\n",
    "            # Skip this split if it doesn't divide the\n",
    "            # dataset.\n",
    "            if len(true_rows) == 0 or len(false_rows) == 0:\n",
    "                continue\n",
    "\n",
    "            # Calculate the information gain from this split\n",
    "            gain = info_gain(true_rows, false_rows, current_uncertainty)\n",
    "\n",
    "            # You actually can use '>' instead of '>=' here\n",
    "            # but I wanted the tree to look a certain way for our\n",
    "            # toy dataset.\n",
    "            if gain >= best_gain:\n",
    "                best_gain, best_question = gain, question\n",
    "\n",
    "    return best_gain, best_question"
   ]
  },
  {
   "cell_type": "code",
   "execution_count": 21,
   "metadata": {
    "colab": {},
    "colab_type": "code",
    "id": "eUV8ldSctFV9",
    "outputId": "0b2ee5db-efdb-4eef-cd75-1cbd08ad7926"
   },
   "outputs": [
    {
     "data": {
      "text/plain": [
       "Is Wind Gusts >= 12?"
      ]
     },
     "execution_count": 21,
     "metadata": {},
     "output_type": "execute_result"
    }
   ],
   "source": [
    "# Find the best question to ask first for our toy dataset.\n",
    "best_gain, best_question = find_best_split(training_data)\n",
    "best_question\n"
   ]
  },
  {
   "cell_type": "code",
   "execution_count": 22,
   "metadata": {
    "colab": {},
    "colab_type": "code",
    "id": "aCnDdPhetFWD"
   },
   "outputs": [],
   "source": [
    "class Leaf:\n",
    "    \"\"\"A Leaf node classifies data.\n",
    "\n",
    "    This holds a dictionary of class (e.g., \"Apple\") -> number of times\n",
    "    it appears in the rows from the training data that reach this leaf.\n",
    "    \"\"\"\n",
    "\n",
    "    def __init__(self, rows):\n",
    "        self.predictions = class_counts(rows)"
   ]
  },
  {
   "cell_type": "code",
   "execution_count": 23,
   "metadata": {
    "colab": {},
    "colab_type": "code",
    "id": "fMrXuUHltFWI"
   },
   "outputs": [],
   "source": [
    "class Decision_Node:\n",
    "    \"\"\"A Decision Node asks a question.\n",
    "\n",
    "    This holds a reference to the question, and to the two child nodes.\n",
    "    \"\"\"\n",
    "\n",
    "    def __init__(self,\n",
    "                 question,\n",
    "                 true_branch,\n",
    "                 false_branch):\n",
    "        self.question = question\n",
    "        self.true_branch = true_branch\n",
    "        self.false_branch = false_branch"
   ]
  },
  {
   "cell_type": "code",
   "execution_count": 24,
   "metadata": {
    "colab": {},
    "colab_type": "code",
    "id": "GZuY4KRDtFWL"
   },
   "outputs": [],
   "source": [
    "def build_tree(rows):\n",
    "    \"\"\"Builds the tree.\n",
    "\n",
    "    Rules of recursion: 1) Believe that it works. 2) Start by checking\n",
    "    for the base case (no further information gain). 3) Prepare for\n",
    "    giant stack traces.\n",
    "    \"\"\"\n",
    "\n",
    "    # Try partitioing the dataset on each of the unique attribute,\n",
    "    # calculate the information gain,\n",
    "    # and return the question that produces the highest gain.\n",
    "    gain, question = find_best_split(rows)\n",
    "\n",
    "    # Base case: no further info gain\n",
    "    # Since we can ask no further questions,\n",
    "    # we'll return a leaf.\n",
    "    if gain == 0:\n",
    "        return Leaf(rows)\n",
    "\n",
    "    # If we reach here, we have found a useful feature / value\n",
    "    # to partition on.\n",
    "    true_rows, false_rows = partition(rows, question)\n",
    "\n",
    "    # Recursively build the true branch.\n",
    "    true_branch = build_tree(true_rows)\n",
    "\n",
    "    # Recursively build the false branch.\n",
    "    false_branch = build_tree(false_rows)\n",
    "\n",
    "    # Return a Question node.\n",
    "    # This records the best feature / value to ask at this point,\n",
    "    # as well as the branches to follow\n",
    "    # dependingo on the answer.\n",
    "    return Decision_Node(question, true_branch, false_branch)"
   ]
  },
  {
   "cell_type": "code",
   "execution_count": 25,
   "metadata": {
    "colab": {},
    "colab_type": "code",
    "id": "KQoed3P3tFWR"
   },
   "outputs": [],
   "source": [
    "def print_tree(node, spacing=\"\"):\n",
    "    \"\"\"World's most elegant tree printing function.\"\"\"\n",
    "\n",
    "    # Base case: we've reached a leaf\n",
    "    if isinstance(node, Leaf):\n",
    "        print (spacing + \"Predict\", node.predictions)\n",
    "        return\n",
    "\n",
    "    # Print the question at this node\n",
    "    print (spacing + str(node.question))\n",
    "\n",
    "    # Call this function recursively on the true branch\n",
    "    print (spacing + '--> True:')\n",
    "    print_tree(node.true_branch, spacing + \"  \")\n",
    "\n",
    "    # Call this function recursively on the false branch\n",
    "    print (spacing + '--> False:')\n",
    "    print_tree(node.false_branch, spacing + \"  \")"
   ]
  },
  {
   "cell_type": "code",
   "execution_count": 26,
   "metadata": {
    "colab": {},
    "colab_type": "code",
    "id": "CfwompGQtFWU"
   },
   "outputs": [],
   "source": [
    "my_tree = build_tree(training_data)"
   ]
  },
  {
   "cell_type": "code",
   "execution_count": 27,
   "metadata": {
    "colab": {},
    "colab_type": "code",
    "id": "_uMeB2RqtFWZ",
    "outputId": "7b0486ad-0518-455a-c9b2-99e27656e608"
   },
   "outputs": [
    {
     "name": "stdout",
     "output_type": "stream",
     "text": [
      "Is Wind Gusts >= 12?\n",
      "--> True:\n",
      "  Predict {5.5: 2}\n",
      "--> False:\n",
      "  Is Wind Average >= 5?\n",
      "  --> True:\n",
      "    Is Wind Average >= 6?\n",
      "    --> True:\n",
      "      Predict {6.5: 1}\n",
      "    --> False:\n",
      "      Is Wind Gusts >= 10?\n",
      "      --> True:\n",
      "        Predict {6.5: 1, 7.7: 1}\n",
      "      --> False:\n",
      "        Predict {7.7: 1}\n",
      "  --> False:\n",
      "    Predict {9.0: 2}\n"
     ]
    }
   ],
   "source": [
    "print_tree(my_tree)"
   ]
  },
  {
   "cell_type": "code",
   "execution_count": 28,
   "metadata": {
    "colab": {},
    "colab_type": "code",
    "id": "8Fce4hJ3tFWm"
   },
   "outputs": [],
   "source": [
    "def classify(row, node):\n",
    "    \"\"\"See the 'rules of recursion' above.\"\"\"\n",
    "\n",
    "    # Base case: we've reached a leaf\n",
    "    if isinstance(node, Leaf):\n",
    "        return node.predictions\n",
    "\n",
    "    # Decide whether to follow the true-branch or the false-branch.\n",
    "    # Compare the feature / value stored in the node,\n",
    "    # to the example we're considering.\n",
    "    if node.question.match(row):\n",
    "        return classify(row, node.true_branch)\n",
    "    else:\n",
    "        return classify(row, node.false_branch)"
   ]
  },
  {
   "cell_type": "code",
   "execution_count": 29,
   "metadata": {
    "colab": {},
    "colab_type": "code",
    "id": "2ynWxwbltFWp",
    "outputId": "de696d52-d062-4442-fa27-1a0ecec853ac"
   },
   "outputs": [
    {
     "data": {
      "text/plain": [
       "{7.7: 1}"
      ]
     },
     "execution_count": 29,
     "metadata": {},
     "output_type": "execute_result"
    }
   ],
   "source": [
    "#######\n",
    "# Demo:\n",
    "# The tree predicts the 1st row of our\n",
    "# training data is an apple with confidence 1.\n",
    "classify(training_data[4], my_tree)\n",
    "#######"
   ]
  },
  {
   "cell_type": "code",
   "execution_count": 30,
   "metadata": {
    "colab": {},
    "colab_type": "code",
    "id": "MhC0k0OdtFW0"
   },
   "outputs": [],
   "source": [
    "def print_leaf(counts):\n",
    "    \"\"\"A nicer way to print the predictions at a leaf.\"\"\"\n",
    "    total = sum(counts.values()) * 1.0\n",
    "    probs = {}\n",
    "    for lbl in counts.keys():\n",
    "        probs[lbl] = str(int(counts[lbl] / total * 100)) + \"%\"\n",
    "    return probs"
   ]
  },
  {
   "cell_type": "code",
   "execution_count": 31,
   "metadata": {
    "colab": {},
    "colab_type": "code",
    "id": "MO0tYO4ktFW5",
    "outputId": "91398ee3-22cb-4c33-cce1-73863e2957a8"
   },
   "outputs": [
    {
     "data": {
      "text/plain": [
       "{5.5: '100%'}"
      ]
     },
     "execution_count": 31,
     "metadata": {},
     "output_type": "execute_result"
    }
   ],
   "source": [
    "#######\n",
    "# Demo:\n",
    "# Printing that a bit nicer\n",
    "print_leaf(classify(training_data[0], my_tree))\n",
    "#######"
   ]
  },
  {
   "cell_type": "code",
   "execution_count": 32,
   "metadata": {
    "colab": {},
    "colab_type": "code",
    "id": "1b4KHTcitFXC",
    "outputId": "219aad23-476a-4426-faa9-772759491acb"
   },
   "outputs": [
    {
     "data": {
      "text/plain": [
       "{7.7: '100%'}"
      ]
     },
     "execution_count": 32,
     "metadata": {},
     "output_type": "execute_result"
    }
   ],
   "source": [
    "#######\n",
    "# Demo:\n",
    "# On the second example, the confidence is lower\n",
    "print_leaf(classify(training_data[4], my_tree))\n",
    "#######"
   ]
  },
  {
   "cell_type": "code",
   "execution_count": 33,
   "metadata": {
    "colab": {},
    "colab_type": "code",
    "id": "O51_51oFtFXG"
   },
   "outputs": [],
   "source": [
    "# Evaluate\n",
    "testing_data = [\n",
    "    [6, 12, 5.5],\n",
    "    [6, 11, 6.5],\n",
    "    [5, 9, 7.7],\n",
    "    [5, 10, 7.7],\n",
    "    [4, 9, 9.0],\n",
    "    [4, 8, 9.0],\n",
    "    [4, 7, 9.0],\n",
    "    [5, 9, 7.7]\n",
    "]"
   ]
  },
  {
   "cell_type": "code",
   "execution_count": 34,
   "metadata": {
    "colab": {},
    "colab_type": "code",
    "id": "5EwsrAJ_tFXJ",
    "outputId": "967410c4-a6f0-4279-b417-0ad834c8f472"
   },
   "outputs": [
    {
     "name": "stdout",
     "output_type": "stream",
     "text": [
      "Actual: 5.5. Predicted: {5.5: '100%'}\n",
      "Actual: 6.5. Predicted: {6.5: '100%'}\n",
      "Actual: 7.7. Predicted: {7.7: '100%'}\n",
      "Actual: 7.7. Predicted: {6.5: '50%', 7.7: '50%'}\n",
      "Actual: 9.0. Predicted: {9.0: '100%'}\n",
      "Actual: 9.0. Predicted: {9.0: '100%'}\n",
      "Actual: 9.0. Predicted: {9.0: '100%'}\n",
      "Actual: 7.7. Predicted: {7.7: '100%'}\n"
     ]
    }
   ],
   "source": [
    "for row in testing_data:\n",
    "    print (\"Actual: %s. Predicted: %s\" %\n",
    "           (row[-1], print_leaf(classify(row, my_tree))))"
   ]
  },
  {
   "cell_type": "code",
   "execution_count": 35,
   "metadata": {
    "colab": {
     "base_uri": "https://localhost:8080/",
     "height": 35
    },
    "colab_type": "code",
    "executionInfo": {
     "elapsed": 1415,
     "status": "ok",
     "timestamp": 1591858452391,
     "user": {
      "displayName": "Jocke Flink",
      "photoUrl": "",
      "userId": "09592028922337086551"
     },
     "user_tz": -120
    },
    "id": "yK8wa27xtFXS",
    "outputId": "367cb94e-5d8a-403f-a922-c7b3d1afdead"
   },
   "outputs": [
    {
     "name": "stdout",
     "output_type": "stream",
     "text": [
      "[6.334069948325313, 12.0, 5.5]\n",
      "[6.893030946604349, 12.0, 5.5]\n",
      "112\n"
     ]
    }
   ],
   "source": [
    "import random\n",
    "import pandas as pd\n",
    "def Createvalues():\n",
    "    values=[]\n",
    "    #mall=[{\"Sail\":5.5,\"minWD\":4,\"maxWD\":5,\"minWA\":6,\"maxWA\":7,\"minWG\":12,\"maxWG\":14},\n",
    "    #{\"Sail\":6.5,\"minWD\":2,\"maxWD\":6,\"minWA\":4,\"maxWA\":6,\"minWG\":8,\"maxWG\":11},\n",
    "    #{\"Sail\":7.7,\"minWD\":3.5,\"maxWD\":7,\"minWA\":3,\"maxWA\":5,\"minWG\":6,\"maxWG\":10},\n",
    "    #{\"Sail\":9.0,\"minWD\":0,\"maxWD\":6.5,\"minWA\":4,\"maxWA\":5,\"minWG\":8,\"maxWG\":9}]\n",
    "    mall=[{\"Sail\":5.5,\"minWA\":6,\"maxWA\":7,\"minWG\":12,\"maxWG\":12},\n",
    "    {\"Sail\":6.5,\"minWA\":5,\"maxWA\":6,\"minWG\":10,\"maxWG\":11},\n",
    "    {\"Sail\":7.7,\"minWA\":4,\"maxWA\":5,\"minWG\":9,\"maxWG\":10},\n",
    "    {\"Sail\":9.0,\"minWA\":4,\"maxWA\":4,\"minWG\":8,\"maxWG\":9}]\n",
    "    #mall=[{\"Sail\":5.5,\"minWD\":4,\"maxWD\":5,\"minWA\":6,\"maxWA\":7,\"minWG\":12,\"maxWG\":14},\n",
    "    #{\"Sail\":6.5,\"minWD\":2,\"maxWD\":6,\"minWA\":5,\"maxWA\":6,\"minWG\":10,\"maxWG\":11},\n",
    "    #{\"Sail\":7.7,\"minWD\":3.5,\"maxWD\":7,\"minWA\":5,\"maxWA\":5,\"minWG\":9,\"maxWG\":10},\n",
    "    #{\"Sail\":9.0,\"minWD\":0,\"maxWD\":6.5,\"minWA\":4,\"maxWA\":4,\"minWG\":8,\"maxWG\":9}]\n",
    "    for typeOfSail in mall:\n",
    "        antalgånger= random.randint(1,51)\n",
    "        for i in range(0,antalgånger):\n",
    "            #nyWD= random.uniform(typeOfSail[\"minWD\"],typeOfSail[\"maxWD\"])\n",
    "            nyWA= random.uniform(typeOfSail[\"minWA\"],typeOfSail[\"maxWA\"])\n",
    "            nyWG= random.uniform(typeOfSail[\"minWG\"],typeOfSail[\"maxWG\"])\n",
    "#             value= {\"hum\":nyhum,\"heat\":nytemp,\"label\":typavrum[\"label\"]}\n",
    "            value= [nyWA,nyWG,typeOfSail[\"Sail\"]]\n",
    "            values.append(value)\n",
    "\n",
    "    print(values[0])\n",
    "    print(values[3])\n",
    "    print(len(values))\n",
    "    return values\n",
    "\n",
    "    #List of dictionaries\n",
    "newdata= Createvalues()\n",
    "#Dataframe\n",
    "newvalues=pd.DataFrame(newdata)\n"
   ]
  },
  {
   "cell_type": "code",
   "execution_count": 36,
   "metadata": {
    "colab": {},
    "colab_type": "code",
    "id": "g65SUZ--tFXb",
    "outputId": "1e75b93c-dd7e-4051-ccf6-ff4700395259"
   },
   "outputs": [
    {
     "data": {
      "text/plain": [
       "6.5    39\n",
       "9.0    27\n",
       "5.5    24\n",
       "7.7    22\n",
       "Name: 2, dtype: int64"
      ]
     },
     "execution_count": 36,
     "metadata": {},
     "output_type": "execute_result"
    }
   ],
   "source": [
    "# newvalues.info()\n",
    "# newvalues.describe()\n",
    "# newvalues.label.value_counts()\n",
    "newvalues[2].value_counts()\n"
   ]
  },
  {
   "cell_type": "code",
   "execution_count": 37,
   "metadata": {
    "colab": {},
    "colab_type": "code",
    "id": "LbZCAnHDtFXk",
    "outputId": "da321cea-4322-4424-f0d7-8fa03259ac4c"
   },
   "outputs": [
    {
     "name": "stdout",
     "output_type": "stream",
     "text": [
      "          0     1    2\n",
      "0  6.334070  12.0  5.5\n",
      "1  6.434298  12.0  5.5\n",
      "2  6.152246  12.0  5.5\n",
      "3  6.893031  12.0  5.5\n",
      "4  6.955524  12.0  5.5\n",
      "          0          1    2\n",
      "0  4.484361   9.128090  7.7\n",
      "1  4.000000   8.355475  9.0\n",
      "2  6.684988  12.000000  5.5\n",
      "3  4.000000   8.434247  9.0\n",
      "4  6.205884  12.000000  5.5\n"
     ]
    }
   ],
   "source": [
    "\n",
    "print(newvalues.head())\n",
    "newvalues = newvalues.sample(frac=1).reset_index(drop=True)\n",
    "print(newvalues.head())\n"
   ]
  },
  {
   "cell_type": "code",
   "execution_count": 38,
   "metadata": {
    "colab": {},
    "colab_type": "code",
    "id": "9C__ijUwtFXn",
    "outputId": "193cb8c8-e843-4bd3-99d0-68417b550674"
   },
   "outputs": [
    {
     "name": "stdout",
     "output_type": "stream",
     "text": [
      "Antal Subsets: 16\n",
      "Antal värden i varje subset: 7\n",
      "            0          1    2\n",
      "60   5.924238  10.291968  6.5\n",
      "81   6.340661  12.000000  5.5\n",
      "100  4.486991   9.739085  7.7\n",
      "28   5.777630  10.613560  6.5\n",
      "5    4.547403   9.451567  7.7\n",
      "21   6.893031  12.000000  5.5\n",
      "65   4.000000   8.365020  9.0\n"
     ]
    }
   ],
   "source": [
    "def Splitdata(inputdata,n_trees,ownvalue): \n",
    "#     print(len(inputdata),n_trees, ownvalue)\n",
    "    subsets=[]\n",
    "    splitone=inputdata.sample(frac=0.5,random_state=200)\n",
    "    splittwo=inputdata.drop(splitone.index)\n",
    "    if n_trees!=1:\n",
    "        feedback= Splitdata(splitone,n_trees-1,ownvalue+\"a\")\n",
    "        feedback2 =Splitdata(splittwo,n_trees-1,ownvalue+\"b\")\n",
    "        for i in range(0,len(feedback)):\n",
    "#             print(i,\"Len\",len(feedback[i]), n_trees,ownvalue)\n",
    "#             print(i,\"Len\",len(feedback2[i]), n_trees,ownvalue)\n",
    "            subsets.append(feedback[i])\n",
    "            subsets.append(feedback2[i])  \n",
    "        \n",
    "    else:\n",
    "        return [splitone,splittwo]\n",
    "    return subsets\n",
    "\n",
    "Subsets =Splitdata(newvalues,4,\"b\")\n",
    "\n",
    "print(\"Antal Subsets:\",len(Subsets))\n",
    "print(\"Antal värden i varje subset:\",len(Subsets[0]))\n",
    "print(Subsets[0])"
   ]
  },
  {
   "cell_type": "code",
   "execution_count": 39,
   "metadata": {
    "colab": {},
    "colab_type": "code",
    "id": "mIw7cw4MtFXr",
    "outputId": "bd8d5d16-9414-4e86-bfe9-89f5a355cedb"
   },
   "outputs": [
    {
     "name": "stdout",
     "output_type": "stream",
     "text": [
      "Träd 1\n",
      "Is Wind Gusts >= 12.0?\n",
      "--> True:\n",
      "  Predict {5.5: 2}\n",
      "--> False:\n",
      "  Is Wind Gusts >= 10.291967851241278?\n",
      "  --> True:\n",
      "    Predict {6.5: 2}\n",
      "  --> False:\n",
      "    Is Wind Gusts >= 9.451566849072824?\n",
      "    --> True:\n",
      "      Predict {7.7: 2}\n",
      "    --> False:\n",
      "      Predict {9.0: 1}\n",
      "Träd 2\n",
      "Is Wind Gusts >= 12.0?\n",
      "--> True:\n",
      "  Predict {5.5: 4}\n",
      "--> False:\n",
      "  Is Wind Gusts >= 9.12808957552338?\n",
      "  --> True:\n",
      "    Is Wind Gusts >= 10.854501863914848?\n",
      "    --> True:\n",
      "      Predict {6.5: 1}\n",
      "    --> False:\n",
      "      Predict {7.7: 1}\n",
      "  --> False:\n",
      "    Predict {9.0: 1}\n",
      "Träd 3\n",
      "Is Wind Gusts >= 10.061716994705815?\n",
      "--> True:\n",
      "  Is Wind Gusts >= 12.0?\n",
      "  --> True:\n",
      "    Predict {5.5: 1}\n",
      "  --> False:\n",
      "    Predict {6.5: 4}\n",
      "--> False:\n",
      "  Predict {9.0: 2}\n",
      "Träd 4\n",
      "Is Wind Gusts >= 10.254519625235568?\n",
      "--> True:\n",
      "  Predict {6.5: 4}\n",
      "--> False:\n",
      "  Is Wind Gusts >= 9.905305890813372?\n",
      "  --> True:\n",
      "    Predict {7.7: 1}\n",
      "  --> False:\n",
      "    Predict {9.0: 2}\n",
      "Träd 5\n",
      "Is Wind Gusts >= 12.0?\n",
      "--> True:\n",
      "  Predict {5.5: 2}\n",
      "--> False:\n",
      "  Is Wind Gusts >= 9.237992962922004?\n",
      "  --> True:\n",
      "    Is Wind Gusts >= 10.92236889619365?\n",
      "    --> True:\n",
      "      Predict {6.5: 1}\n",
      "    --> False:\n",
      "      Predict {7.7: 3}\n",
      "  --> False:\n",
      "    Predict {9.0: 1}\n",
      "Träd 6\n",
      "Is Wind Gusts >= 12.0?\n",
      "--> True:\n",
      "  Predict {5.5: 2}\n",
      "--> False:\n",
      "  Is Wind Gusts >= 10.447100973258285?\n",
      "  --> True:\n",
      "    Predict {6.5: 2}\n",
      "  --> False:\n",
      "    Is Wind Gusts >= 9.243714126064576?\n",
      "    --> True:\n",
      "      Predict {7.7: 1}\n",
      "    --> False:\n",
      "      Predict {9.0: 2}\n",
      "Träd 7\n",
      "Is Wind Gusts >= 12.0?\n",
      "--> True:\n",
      "  Predict {5.5: 3}\n",
      "--> False:\n",
      "  Is Wind Gusts >= 10.510807937968309?\n",
      "  --> True:\n",
      "    Predict {6.5: 1}\n",
      "  --> False:\n",
      "    Is Wind Gusts >= 9.347684447266825?\n",
      "    --> True:\n",
      "      Predict {7.7: 2}\n",
      "    --> False:\n",
      "      Predict {9.0: 1}\n",
      "Träd 8\n",
      "Is Wind Gusts >= 10.272948297177125?\n",
      "--> True:\n",
      "  Predict {6.5: 3}\n",
      "--> False:\n",
      "  Is Wind Gusts >= 9.377030353120052?\n",
      "  --> True:\n",
      "    Predict {7.7: 3}\n",
      "  --> False:\n",
      "    Predict {9.0: 1}\n",
      "Träd 9\n",
      "Is Wind Gusts >= 10.687927473381368?\n",
      "--> True:\n",
      "  Is Wind Gusts >= 12.0?\n",
      "  --> True:\n",
      "    Predict {5.5: 1}\n",
      "  --> False:\n",
      "    Predict {6.5: 2}\n",
      "--> False:\n",
      "  Is Wind Gusts >= 9.062823427132235?\n",
      "  --> True:\n",
      "    Predict {7.7: 3}\n",
      "  --> False:\n",
      "    Predict {9.0: 1}\n",
      "Träd 10\n",
      "Is Wind Gusts >= 10.470139511488851?\n",
      "--> True:\n",
      "  Predict {6.5: 5}\n",
      "--> False:\n",
      "  Is Wind Gusts >= 9.852942194844065?\n",
      "  --> True:\n",
      "    Predict {7.7: 1}\n",
      "  --> False:\n",
      "    Predict {9.0: 1}\n",
      "Träd 11\n",
      "Is Wind Gusts >= 12.0?\n",
      "--> True:\n",
      "  Predict {5.5: 2}\n",
      "--> False:\n",
      "  Is Wind Gusts >= 10.291767246733958?\n",
      "  --> True:\n",
      "    Predict {6.5: 4}\n",
      "  --> False:\n",
      "    Predict {7.7: 1}\n",
      "Träd 12\n",
      "Is Wind Gusts >= 12.0?\n",
      "--> True:\n",
      "  Predict {5.5: 3}\n",
      "--> False:\n",
      "  Is Wind Gusts >= 10.195624840539828?\n",
      "  --> True:\n",
      "    Predict {6.5: 1}\n",
      "  --> False:\n",
      "    Predict {9.0: 3}\n",
      "Träd 13\n",
      "Is Wind Gusts >= 10.34195941869868?\n",
      "--> True:\n",
      "  Is Wind Gusts >= 12.0?\n",
      "  --> True:\n",
      "    Predict {5.5: 1}\n",
      "  --> False:\n",
      "    Predict {6.5: 3}\n",
      "--> False:\n",
      "  Predict {9.0: 3}\n",
      "Träd 14\n",
      "Is Wind Gusts >= 9.311959446352349?\n",
      "--> True:\n",
      "  Is Wind Gusts >= 10.067421629566189?\n",
      "  --> True:\n",
      "    Predict {6.5: 1}\n",
      "  --> False:\n",
      "    Predict {7.7: 2}\n",
      "--> False:\n",
      "  Predict {9.0: 4}\n",
      "Träd 15\n",
      "Is Wind Gusts >= 12.0?\n",
      "--> True:\n",
      "  Predict {5.5: 2}\n",
      "--> False:\n",
      "  Is Wind Gusts >= 10.014050065631087?\n",
      "  --> True:\n",
      "    Predict {6.5: 2}\n",
      "  --> False:\n",
      "    Is Wind Gusts >= 9.042415178760644?\n",
      "    --> True:\n",
      "      Predict {7.7: 1}\n",
      "    --> False:\n",
      "      Predict {9.0: 2}\n",
      "Träd 16\n",
      "Is Wind Gusts >= 9.601881752618343?\n",
      "--> True:\n",
      "  Is Wind Gusts >= 12.0?\n",
      "  --> True:\n",
      "    Predict {5.5: 1}\n",
      "  --> False:\n",
      "    Is Wind Gusts >= 10.040474955330476?\n",
      "    --> True:\n",
      "      Predict {6.5: 3}\n",
      "    --> False:\n",
      "      Predict {7.7: 1}\n",
      "--> False:\n",
      "  Predict {9.0: 2}\n"
     ]
    }
   ],
   "source": [
    "My_trees=[]\n",
    "i=1\n",
    "for Myset in Subsets:\n",
    "    Mylist= Myset.values.tolist()\n",
    "    print(\"Träd\",i)\n",
    "    i+=1\n",
    "    tree=build_tree(Mylist)\n",
    "    My_trees.append(tree)\n",
    "    print_tree(tree)\n",
    "    \n"
   ]
  },
  {
   "cell_type": "code",
   "execution_count": 40,
   "metadata": {
    "colab": {},
    "colab_type": "code",
    "id": "eNRozI3FtFXv",
    "outputId": "e8ba55e0-f5e8-4a61-8366-f26973d40625",
    "scrolled": true
   },
   "outputs": [
    {
     "name": "stdout",
     "output_type": "stream",
     "text": [
      "Actual: 5.5 5.5 : 12 / 16\n",
      "Actual: 6.5 6.5 : 16 / 16\n",
      "Actual: 7.7 9.0 : 15 / 16\n",
      "Actual: 7.7 7.7 : 13 / 16\n",
      "Actual: 9.0 9.0 : 15 / 16\n",
      "Actual: 9.0 9.0 : 15 / 16\n",
      "Actual: 9.0 9.0 : 15 / 16\n",
      "Actual: 7.7 9.0 : 15 / 16\n"
     ]
    }
   ],
   "source": [
    "def Predictioncounter(row,trees,labels):\n",
    "    length= len(labels)\n",
    "    predictions=[0 for i in range(length)]\n",
    "    for tree in trees:\n",
    "        prediction= classify(row, tree)\n",
    "        for i in range(length):\n",
    "             if(prediction.get(labels[i])is not None):\n",
    "                predictions[i]+=1\n",
    "#         print (\"Actual: %s. Predicted: %s\" %\n",
    "#                (row[-1], print_leaf(classify(row, tree))))\n",
    "    return predictions\n",
    "\n",
    "def Randomforest(trees,data):\n",
    "    for row in data:\n",
    "        predictions=[0,0,0]\n",
    "        labels=[5.5,6.5,7.7,9.0]\n",
    "        predictions= Predictioncounter(row,trees,labels)\n",
    "        high=max(predictions)\n",
    "        print(\"Actual:\",row[2],labels[predictions.index(high)],\":\", max(predictions),\"/\",len(trees))\n",
    "                            \n",
    "Randomforest(My_trees,testing_data)"
   ]
  },
  {
   "cell_type": "code",
   "execution_count": null,
   "metadata": {
    "colab": {},
    "colab_type": "code",
    "id": "dqwefRXOtFX3"
   },
   "outputs": [],
   "source": []
  }
 ],
 "metadata": {
  "colab": {
   "name": "decision_tree-Own med forest.ipynb",
   "provenance": []
  },
  "kernelspec": {
   "display_name": "Python 3.10.0 64-bit",
   "language": "python",
   "name": "python3"
  },
  "language_info": {
   "codemirror_mode": {
    "name": "ipython",
    "version": 3
   },
   "file_extension": ".py",
   "mimetype": "text/x-python",
   "name": "python",
   "nbconvert_exporter": "python",
   "pygments_lexer": "ipython3",
   "version": "3.10.0"
  },
  "vscode": {
   "interpreter": {
    "hash": "d2d121e657fd71411bb97aeef9a6e4153db9e11b206efb58a877ab4683534528"
   }
  }
 },
 "nbformat": 4,
 "nbformat_minor": 1
}
